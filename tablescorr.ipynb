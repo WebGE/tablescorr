{
 "cells": [
  {
   "cell_type": "markdown",
   "metadata": {},
   "source": [
    "# Traitement de données en table (Révisions de 1NSI) - <span style=\"color:blue;\">CORRECTION</span>"
   ]
  },
  {
   "cell_type": "markdown",
   "metadata": {},
   "source": [
    "**Ressources** : <a href=\"https://webge.synology.me/dokuwiki/doku.php?id=python:accueilpython\" target=\"_blank\"><input type=\"button\" value=\"Wiki Python sur WebGE\"></a>"
   ]
  },
  {
   "cell_type": "markdown",
   "metadata": {},
   "source": [
    "**Sommaire**\n",
    "* 1. Présentation\n",
    "* 2. Organisation d'une table\n",
    "* 3. Objectifs\n",
    "* 4. Construction et interrogation d'une table\n",
    "* 4.1 Construction\n",
    "* 4.2 Interrogation\n",
    "----"
   ]
  },
  {
   "cell_type": "markdown",
   "metadata": {},
   "source": [
    "## 1. Présentation\n",
    "<table>\n",
    "    <tr>\n",
    "        <td style=\"text-align:left; font-size:14px\"><p>L'<strong>organisation tabulaire des données</strong> est très répandue et très ancienne. Les tables documentées les plus anciennes sont des livres de comptes déjà présents dans l'Égypte ancienne. </p><p><strong>Aujourd'hui</strong>, cette organisation est utilisée par les bulletins scolaires, les résultats de match ou les relevés d'un compte bancaire qui indiquent pour chaque opération, sa date, son montant et sa nature (débit ou crédit).</p><p>En informatique, la manipulation de données en tables depuis un langage de programmation est utilisée dans de nombreux domaines : <strong>calcul scientifique, intelligence artificielle, programmation Web, bio-informatique, informatique financière, etc</strong>. </p> \n",
    "        </td>\n",
    "        <td> <img src=\"img/papyrus.png\"></td>\n",
    "    </tr> \n",
    "</table>"
   ]
  },
  {
   "cell_type": "markdown",
   "metadata": {},
   "source": [
    "## 2. Organisation d'une table\n",
    "Dans ce notebook, les tables représentent des **collections d'éléments**. Chaque **ligne** représente un élément enregistré dans la collection ou **enregistrement**. Les **colonnes** représentent les **attributs** d'un élément (égalements notées champs). La première ligne est le **schéma de la table**.\n",
    "\n",
    "![table.png](img/table.png)"
   ]
  },
  {
   "cell_type": "markdown",
   "metadata": {},
   "source": [
    "## 3. Objectifs\n",
    "**Construire** la table de données ci-dessous à partir d'un fichier CSV. **Coder** des requêtes en Python qui répondent à des interrogations telles que :\n",
    "* Le prénom \"Brian\" est-il présent dans la table?\n",
    "* Quels scientifiques ont pour prénom Alan ?\n",
    "* Quel est le nom et le prénom des scientifiques nés entre 1900 et 1920,\n",
    "etc.\n",
    "\n",
    "![table.png](img/scientifiques.png)"
   ]
  },
  {
   "cell_type": "markdown",
   "metadata": {},
   "source": [
    "## 4. Construction et interrogation d'une table\n",
    "### 4.1 Construction\n",
    "La première opération concernant les données en table est le **chargement des données**. Les données sont souvent chargées à partir d'un fichier au format <a href=\"https://fr.wikipedia.org/wiki/Comma-separated_values\" target=\"_blank\">CSV</a> (**comma-separated values**) relativement simple :\n",
    "* les fichiers CSV sont des fichiers texte;\n",
    "* chaque ligne du fichier correspond à une ligne de la table;\n",
    "* chaque ligne est séparée en champs au moyen d'une virgule, d'un point-virgule ou d'une barre verticale;\n",
    "* toutes les lignes du fichier ont le même nombre d'attributs;\n",
    "* la première ligne peut représenter des noms d'attributs ou commencer directement avec les données;\n",
    "* on peut utiliser des guillemets pour délimiter le contenu des attributs.\n",
    "\n",
    "La **bibliothèque standard** Python propose un module **csv** contenant des fonctions pour lire et écrire des fichiers CSV."
   ]
  },
  {
   "cell_type": "code",
   "execution_count": null,
   "metadata": {},
   "outputs": [],
   "source": [
    "# IMPORTANT : si l'exécution du notebook se fait dans colab, télécharger le fichier \"scientifiques.csv\" sur votre PC\n",
    "# cas 1, à l'extérieur du lycée : utiliser le lien http://p.mariano.free.fr/doc/tnsi/tp/scientifiques.csv dans un navigateur\n",
    "# cas 2, accès au NAS_SIN de la salle de classe : voir prof\n",
    "# puis exécutez le code ci-dessous pour importer \"scientifiques.csv\" dans le répertoire colab Notebooks de votre compte Google\n",
    "from google.colab import files\n",
    "data_to_load = files.upload()"
   ]
  },
  {
   "cell_type": "markdown",
   "metadata": {},
   "source": [
    "Le code ci-dessous charge le fichier *scientifique.csv* dans une variable nommée *table*. **Exécutez-le**."
   ]
  },
  {
   "cell_type": "code",
   "execution_count": null,
   "metadata": {},
   "outputs": [],
   "source": [
    "import csv\n",
    "# Construction d'une table (indexation à partir d'un fichier CSV)\n",
    "fichier = open(\"scientifiques.csv\")\n",
    "table = list(csv.DictReader(fichier, delimiter=\";\"))\n",
    "print(table)"
   ]
  },
  {
   "cell_type": "markdown",
   "metadata": {},
   "source": [
    "----\n",
    "\n",
    "<span style=\"color:blue;font-weight:bold\">Remarques</span> : la fonction *DictReader* renvoie des dictionnaires \"<a href=\"https://docs.python.org/fr/3/library/collections.html\" target=\"_blank\">ordonnés</a>\" que nous utiliserons comme des dictionnaires. La variable **table** contient donc un tableau de dictionnaires. On constate que le **schéma de la table** n'est pas stocké dans le tableau, mais a été utilisé pour **créer les clés des dictionnaires**.\n",
    "\n",
    "----"
   ]
  },
  {
   "cell_type": "markdown",
   "metadata": {},
   "source": [
    "### 4.2 Interrogation\n",
    "Une fois qu'un ensemble de données est chargé dans une table, il devient possible d'**exploiter ces données** à l'aide des opérations de manipulation de tableaux. On va pouvoir extraire des données de la table, tester la présence de certaines données ou faire des statistiques. Ces opérations sont appelées des **requêtes**."
   ]
  },
  {
   "cell_type": "markdown",
   "metadata": {},
   "source": [
    ">**Activité 1. Création d'une requête de sélection (recherche de la présence d'une valeur dans la table)** <br>\n",
    "> On souhaite répondre à la question : \"*Un prénom particulier est-il présent dans la table*\" ? <br>\n",
    ">\n",
    ">**Complétez** la fonction *present(prenom, table)* ci-dessous pour qu'elle renvoie Vrai si le prénom passé en paramètre est présent dans la table et Faux sinon.\n",
    ">\n",
    "> *Exemples de résultats attendus (=> indique le résultat renvoyé)*<br>\n",
    "> - Entrer un prénom : Brian <br>\n",
    ">      => Brian est dans la table. <br>\n",
    "> - Entrer un prénom : Audrey <br>\n",
    ">      => Audrey n'est pas dans la table. <br>"
   ]
  },
  {
   "cell_type": "code",
   "execution_count": null,
   "metadata": {},
   "outputs": [],
   "source": [
    "# Remarque : Python est un langage à typage dynamique, c'est-à-dire qu'il n'est pas nécessaire de préciser le type des données.\n",
    "# Depuis la version 3.5, il est possible de fournir des indicateurs de type lors de la définition des fonctions. \n",
    "# Cette possibilité est utilisée dans ce notebook pour faciliter la compréhension du code.\n",
    "#\n",
    "# Requête à compléter\n",
    "def present(prenom: str, table: list) -> bool: # prenom est de type chaîne de caractères, table est de type liste, \n",
    "                                               # la fonction renvoie un booléen\n",
    "    for enregistrement in table:               # Sélection des enregistrements dans la table\n",
    "        if enregistrement[\"prenom\"] == prenom: # Si le prénom est celui passé en paramètre \n",
    "            return True                        # on renvoie Vrai\n",
    "    return False                               # Si le prénom passé en paramètre n'est pas dans la table, on renvoie Faux\n",
    "\n",
    "# Tests\n",
    "prenom = input(\"Entrer un prénom : \")\n",
    "if (present(prenom, table)):\n",
    "    print(f\"{prenom} est dans la table.\")\n",
    "else:\n",
    "    print(f\"{prenom} n'est pas dans la table.\")"
   ]
  },
  {
   "cell_type": "markdown",
   "metadata": {},
   "source": [
    ">**Activité 2. Création d'une requête de sélection (récupération d'une donnée à partir d'un attribut particulier)**<br>\n",
    "> On souhaite répondre à la question : \"*Quels sont le ou les noms des scientifiques ayant pour prénom ... ?*\" <br>\n",
    ">\n",
    "> La **requête** à créer peut s'exprimer par : **Sélection** de l'attribut *nom* **issu de** la *table* **où** l'attribut *prénom = valeur*<br>\n",
    ">\n",
    "> **Créez** la fonction *nom(prenom, table)* qui renvoie la liste des noms des scientifiques ayant le prénom passé en paramètre.\n",
    ">\n",
    "> *Exemples de résultats attendus*<br>\n",
    "> - Entrer un prénom : Brian => ['Kernighan'] <br>\n",
    "> - Entrer un prénom : Alan => ['Turing', 'Perlis'] <br>\n",
    "> - Entrer un prénom : Audrey => []"
   ]
  },
  {
   "cell_type": "code",
   "execution_count": null,
   "metadata": {},
   "outputs": [],
   "source": [
    "# Requête à compléter\n",
    "def nom(prenom: str, table: list) -> list:\n",
    "    t = []  # tableau contenant la ou les valeurs de attribut1\n",
    "    for enregistrement in table:\n",
    "        if enregistrement[\"prenom\"] == prenom:\n",
    "            t.append(enregistrement[\"nom\"])\n",
    "    return t\n",
    "\n",
    "# Tests\n",
    "prenom = input(\"Entrer un prénom : \")\n",
    "print(nom(prenom, table))"
   ]
  },
  {
   "cell_type": "markdown",
   "metadata": {},
   "source": [
    "> **Activité 3. Création d'une requête de sélection (récupération d'une donnée à partir de la valeur d'un attribut)** <br>\n",
    "> On souhaite répondre aux questions suivantes avec la même requête : <br>\n",
    "> * *Quel est le prénom des scientifiques nés en juin ?* \n",
    "> * *Quel est le nom des scientifiques dont le prénom est Alan ?*\n",
    "> * *Quel est le nom des scientifiques né le premier jour du mois ? etc.* <br>\n",
    ">\n",
    "> La **requête** à créer peut s'exprimer par : **Sélection** d'un *premier attribut* **issu de** la *table* **où** *un second attribut = valeur*\n",
    ">\n",
    ">**Créez** la fonction *selection(attribut1,table,attribut2,valeur)* qui renvoie les valeurs de attribut1 qui correspondent à la valeur de attribut2 passée en paramètre.\n",
    ">\n",
    "> *Exemples de résultats attendus*<br>\n",
    "> - Prénom des scientifiques nés en juin => ['Alan', 'Blaise'] <br>\n",
    "> - Nom des scientifiques dont le prénom est Alan => ['Turing', 'Perlis'] <br>\n",
    "> - Nom des scientifiques nés le premier jour du mois => ['Kernighan', 'Perlis']"
   ]
  },
  {
   "cell_type": "code",
   "execution_count": null,
   "metadata": {},
   "outputs": [],
   "source": [
    "# Requête à compléter\n",
    "def selection(attribut1: str, table: list, attribut2: str, valeur: str) -> list:\n",
    "    t = []  # tableau contenant la ou les valeurs de attribut1 pour attribut2 = valeur\n",
    "    for enregistrement in table:\n",
    "        if enregistrement[attribut2] == valeur:\n",
    "            t.append(enregistrement[attribut1])\n",
    "    return t\n",
    "\n",
    "# Tests\n",
    "# Prénom des scientifiques nés en juin\n",
    "print(selection(\"prenom\", table, \"mois\", \"6\"))\n",
    "# Nom des scientifiques dont le prénom est Alan\n",
    "print(selection(\"nom\",table,\"prenom\",\"Alan\"))\n",
    "# Nom des scientifiques nés le premier jour du mois\n",
    "print(selection(\"nom\", table, \"jour\", \"1\"))\n"
   ]
  },
  {
   "cell_type": "markdown",
   "metadata": {},
   "source": [
    "> **Activité 4. Création d'une requête de sélection (récupération de plusieurs données à partir de la valeur d'un attribut)**  <br>\n",
    "> On souhaite répondre à une question comme : \"*Quels sont le nom et le prénom des scientifiques nés le premier jour du mois ?*\"\n",
    ">\n",
    "> La **requête** à créer peut s'exprimer par : **Sélection** de plusieurs attributs **issus de** la *table* **où** *un attribut = valeur*\n",
    ">\n",
    ">**Créez** la fonction *selection2(lstattrib,table,attribut,valeur)* qui renvoie les valeurs des attributs situés dans *lsattrib* qui correspondent à la valeur de l'attribut passé en paramètre.\n",
    ">\n",
    "> *Exemples de résultats attendus*<br>\n",
    "> - Nom et prénom des scientifiques nés le premier jour du mois => [['Kernighan', 'Brian'], ['Perlis', 'Alan']]<br>\n",
    "> - Nom, prénom et projet des scientifiques nés en juin => [['Turing', 'Alan', 'codes secrets'], ['Pascal', 'Blaise', 'machine arithmetique']]"
   ]
  },
  {
   "cell_type": "code",
   "execution_count": null,
   "metadata": {},
   "outputs": [],
   "source": [
    "# Requête à compléter\n",
    "def selection2(lstattrib: list, table: list, attribut: str, valeur: str) -> list:\n",
    "    t = []\n",
    "    tt = []\n",
    "    for enregistrement in table:\n",
    "        if enregistrement[attribut] == valeur:\n",
    "            for atbut in lstattrib:\n",
    "                t.append(enregistrement[atbut])\n",
    "            tt.append(t.copy())\n",
    "            t.clear()\n",
    "    return tt\n",
    "\n",
    "# Tests\n",
    "# Nom et prénom des scientifiques nés le premier jour du mois\n",
    "t_attributs=[\"nom\",\"prenom\"]\n",
    "print(selection2(t_attributs,table,\"jour\", \"1\"))\n",
    "# Nom, prénom et projet des scientifiques nés en juin\n",
    "t_attributs=[\"nom\",\"prenom\",\"projet\"]\n",
    "print(selection2(t_attributs,table,\"mois\", \"6\"))"
   ]
  },
  {
   "cell_type": "markdown",
   "metadata": {},
   "source": [
    "----\n",
    "\n",
    "<span style=\"color:blue;font-weight:bold\">Remarques</span> : la fonction **DictReader** charge les données dans la table sous la forme de **chaînes de caractères**. Jusqu'à présent, cela n'a pas posé de problèmes pour rédiger les requêtes, mais on doit transtyper les attributs *jour*, *mois* et *année* si l'on souhaite les utiliser comme des nombres.\n",
    "\n",
    "On propose le code ci-dessous. **Exécutez-le**.\n",
    "\n",
    "----"
   ]
  },
  {
   "cell_type": "code",
   "execution_count": null,
   "metadata": {},
   "outputs": [],
   "source": [
    "def valide(enregistrement):  # Validation des données (modification des types)\n",
    "    nom = enregistrement['nom']\n",
    "    prenom = enregistrement[\"prenom\"]\n",
    "    jour = int(enregistrement[\"jour\"])\n",
    "    mois = int(enregistrement[\"mois\"])\n",
    "    annee = int(enregistrement[\"annee\"])\n",
    "    projet = enregistrement[\"projet\"]\n",
    "    return{\"nom\": nom, \"prenom\": prenom, \"jour\": jour, \"mois\": mois, \"annee\": annee, \"projet\": projet}\n",
    "\n",
    "\n",
    "table2 = [valide(enregistrement) for enregistrement in table]\n",
    "print(table2)"
   ]
  },
  {
   "cell_type": "markdown",
   "metadata": {},
   "source": [
    "> **Activité 5. Création d'une requête de sélection (récupération de plusieurs données à partir de la valeur d'un attribut, différents types de données dans la table)** <br>\n",
    "> On souhaite répondre à une question comme : \"*Quels sont le nom et le prénom des scientifiques nés avant 1900 ?*\"\n",
    ">\n",
    "> La **requête** à créer peut s'exprimer par : **Sélection** de plusieurs attributs **issus de** la table **où** un attribut est **comparé à une valeur**. Les comparaisons à prendre en compte sont : **>, <, ==, >=, <=**.\n",
    ">\n",
    ">**Créez** la fonction *selection3(lstattrib,table,attribut,opcomparaison,valeur)* <br>\n",
    "> - *opcomparaison* : opération de comparaison\n",
    ">\n",
    "> *Exemples de résultats attendus*<br>\n",
    "> - Nom et prénom des scientifiques nés avant 1900 => [['Pascal', 'Blaise'], ['Jacquard', 'Joseph Marie']] <br>\n",
    "> - Nom et prénom des scientifiques nés après 1920 => [['Kernighan', 'Brian'], ['Torvald', 'Linus'], ['Knuth', 'Donald'], ['Hamilton', 'Margaret'], ['Perlis', 'Alan']] <br>\n",
    "> - Nom, prénom et projet des scientifiques nés en juin => [['Turing', 'Alan', 'codes secrets'], ['Pascal', 'Blaise', 'machine arithmetique']]"
   ]
  },
  {
   "cell_type": "code",
   "execution_count": null,
   "metadata": {},
   "outputs": [],
   "source": [
    "# Requête à compléter\n",
    "# Attention, utiliser table2 dans les tests\n",
    "# selection 3 Version 1 non optimisée\n",
    "def selection3(lstattrib: list, table: list, attribut: int, opcomparaison: int, valeur: int) -> list:\n",
    "    t = []\n",
    "    tt = []\n",
    "    for enregistrement in table:\n",
    "        if opcomparaison == 1:  # égale\n",
    "            if enregistrement[attribut] == valeur:\n",
    "                for atbut in lstattrib:\n",
    "                    t.append(enregistrement[atbut])\n",
    "                tt.append(t.copy())\n",
    "                t.clear()\n",
    "        elif opcomparaison == 2:  # supérieur\n",
    "            if enregistrement[attribut] > valeur:\n",
    "                for atbut in lstattrib:\n",
    "                    t.append(enregistrement[atbut])\n",
    "                tt.append(t.copy())\n",
    "                t.clear()\n",
    "        elif opcomparaison == 3:  # inférieur\n",
    "            if enregistrement[attribut] < valeur:\n",
    "                for atbut in lstattrib:\n",
    "                    t.append(enregistrement[atbut])\n",
    "                tt.append(t.copy())\n",
    "                t.clear()\n",
    "        # etc.\n",
    "    return tt\n",
    "\n",
    "# Tests\n",
    "t_attributs = [\"nom\", \"prenom\"]\n",
    "# Nom et prénom des scientifiques nés avant 1900\n",
    "print(selection3(t_attributs, table2, \"annee\", 3, 1900))\n",
    "# Nom et prénom des scientifiques nés après 1920\n",
    "print(selection3(t_attributs, table2, \"annee\", 2, 1920))\n",
    "# Nom, prénom et projet des scientifiques nés en juin\n",
    "t_attributs=[\"nom\",\"prenom\",\"projet\"]\n",
    "print(selection2(t_attributs,table,\"mois\", \"6\"))"
   ]
  },
  {
   "cell_type": "code",
   "execution_count": null,
   "metadata": {},
   "outputs": [],
   "source": [
    "# Requête à compléter\n",
    "# Attention, utiliser table2 dans les tests\n",
    "# selection3 Version 2\n",
    "tt = [] # liste de listes contenant le résultat de la requête\n",
    "\n",
    "def addenreg(enregistrement: dict, attribut: int, lstattrib: list) -> list:\n",
    "    t = [] # Une sélection prise dans un enregistrement satisfaisant la comparaison\n",
    "           # faite dans selection3\n",
    "    for atbut in lstattrib:\n",
    "        t.append(enregistrement[atbut])\n",
    "    tt.append(t.copy())\n",
    "    t.clear()\n",
    "\n",
    "def selection3(lstattrib: list, table: list, attribut: int, opcomparaison: int, valeur: int) -> list:\n",
    "    for enregistrement in table:\n",
    "        if opcomparaison == 1:  # égal\n",
    "            if enregistrement[attribut] == valeur:\n",
    "                addenreg(enregistrement, attribut, lstattrib)\n",
    "        elif opcomparaison == 2:  # supérieur\n",
    "            if enregistrement[attribut] > valeur:\n",
    "                addenreg(enregistrement, attribut, lstattrib)\n",
    "        elif opcomparaison == 3:  # inférieur\n",
    "            if enregistrement[attribut] < valeur:\n",
    "                addenreg(enregistrement, attribut, lstattrib)\n",
    "        elif opcomparaison == 4:  # supérieur ou égal\n",
    "            if enregistrement[attribut] >= valeur:\n",
    "                addenreg(enregistrement, attribut, lstattrib)\n",
    "        elif opcomparaison == 5:  # supérieur ou égal\n",
    "            if enregistrement[attribut] <= valeur:\n",
    "                addenreg(enregistrement, attribut, lstattrib)\n",
    "    return tt\n",
    "\n",
    "# Tests\n",
    "operation = {\"egal\": 1, \"sup\": 2, \"inf\": 3, \"supegal\": 4, \"infegal\": 5}\n",
    "t_attributs = [\"nom\", \"prenom\"]\n",
    "# Nom et prénom des scientifiques nés avant 1900\n",
    "print(selection3(t_attributs, table2, \"annee\", operation[\"inf\"], 1900))\n",
    "tt.clear()\n",
    "# Nom et prénom des scientifiques nés après 1920\n",
    "print(selection3(t_attributs, table2, \"annee\", operation[\"sup\"], 1920))\n",
    "tt.clear()\n",
    "# Nom, prénom et projet des scientifiques nés en juin\n",
    "t_attributs=[\"nom\",\"prenom\",\"projet\"]\n",
    "print(selection2(t_attributs,table,\"mois\", \"6\"))"
   ]
  },
  {
   "cell_type": "markdown",
   "metadata": {},
   "source": [
    "> **Activité 6. Création d'une requête de sélection (récupération de plusieurs données à partir de la valeur d'un attribut, différents types de données dans la table)** <br>\n",
    "> On souhaite répondre à une question comme : \"*Quels sont le nom et le prénom des scientifiques nés entre 1900 et 1920 ?*\"\n",
    ">\n",
    "> La **requête** à créer peut s'exprimer par : **Sélection** de plusieurs attributs **issus de** la table **où** un attribut est **comparé à un intervalle de valeurs**. Les comparaisons à prendre en compte sont : **>, <, ==, >=, <=**. <br>\n",
    ">\n",
    ">**Créez** la fonction *selection4(lstattrib,table,attribut,opcomparaisoninf,opcomparaisonsup,valeurmin,valeurmax)* <br>\n",
    "> - *opcomparaisoninf* : opération de comparaison avec la borne inférieure. <br>\n",
    "> - *opcomparaisonsup* : opération de comparaison avec la borne supérieure. <br>\n",
    ">\n",
    "> *Exemples de résultats attendus*<br>\n",
    "> - Nom et prénom des scientifiques nés avant 1900 => [['Pascal', 'Blaise'], ['Jacquard', 'Joseph Marie']] <br>\n",
    "> - Nom et prénom des scientifiques nés entre 1900 et 1920 => [['Hopper', 'Grace'], ['Turing', 'Alan']] <br>\n",
    "> - Nom, prénom et date de naissance des scientifiques nés entre le premier (compris) et le 15 (exclus) du mois\n",
    ">     => [['Kernighan', 'Brian', 1, 1, 1942], ['Hopper', 'Grace', 9, 12, 1906], ['Knuth', 'Donald', 10, 1, 1938], ['Perlis', 'Alan', 1, 4, 1922], ['Jacquard', 'Joseph Marie', 7, 7, 1752]]"
   ]
  },
  {
   "cell_type": "code",
   "execution_count": null,
   "metadata": {},
   "outputs": [],
   "source": [
    "# Requête à compléter\n",
    "# Attention, utiliser table2 dans les tests\n",
    "\n",
    "tt = []\n",
    "\n",
    "def addenreg(enregistrement: dict, attribut: int, lstattrib: list) -> list:\n",
    "    t = []\n",
    "    for atbut in lstattrib:\n",
    "        t.append(enregistrement[atbut])\n",
    "    tt.append(t.copy())\n",
    "    t.clear()\n",
    "\n",
    "def selection4(lstattrib: list, table: list, attribut: int, opcomparaisoninf: int, opcomparaisonsup:int, \n",
    "               valeurmin: int, valeurmax: int) -> list:\n",
    "    for enregistrement in table:\n",
    "        if opcomparaisoninf == 1 and opcomparaisonsup==0:  # égal\n",
    "            if enregistrement[attribut] == valeurmin:\n",
    "                addenreg(enregistrement, attribut, lstattrib)\n",
    "        elif opcomparaisoninf == 2 and opcomparaisonsup==0:  # supérieur\n",
    "            if enregistrement[attribut] > valeurmin:\n",
    "                addenreg(enregistrement, attribut, lstattrib)\n",
    "        elif opcomparaisoninf == 3 and opcomparaisonsup==0:  # inférieur\n",
    "            if enregistrement[attribut] < valeurmin:\n",
    "                addenreg(enregistrement, attribut, lstattrib)\n",
    "        elif opcomparaisoninf == 4 and opcomparaisonsup==0:  # supérieur ou égal\n",
    "            if enregistrement[attribut] >= valeurmin:\n",
    "                addenreg(enregistrement, attribut, lstattrib)\n",
    "        elif opcomparaisoninf == 5 and opcomparaisonsup==0:  # supérieur ou égal\n",
    "            if enregistrement[attribut] <= valeurmin:\n",
    "                addenreg(enregistrement, attribut, lstattrib)\n",
    "        elif opcomparaisoninf == 3 and opcomparaisonsup==3:  # supérieur ou égal\n",
    "            if valeurmin < enregistrement[attribut] and enregistrement[attribut] < valeurmax:\n",
    "                addenreg(enregistrement, attribut, lstattrib)\n",
    "        elif opcomparaisoninf == 5 and opcomparaisonsup==3:  # supérieur ou égal\n",
    "            if valeurmin <= enregistrement[attribut] and enregistrement[attribut] < valeurmax:\n",
    "                addenreg(enregistrement, attribut, lstattrib)\n",
    "    return tt\n",
    "\n",
    "# Tests\n",
    "comparaisons = {\"aucune\":0, \"egal\": 1, \"sup\": 2, \"inf\": 3, \"supegal\": 4, \"infegal\": 5}\n",
    "t_attributs = [\"nom\", \"prenom\"]\n",
    "# Nom et prénom des scientifiques nés avant 1900\n",
    "print(selection4(t_attributs, table2, \"annee\", comparaisons[\"inf\"], comparaisons[\"aucune\"], 1900,0))\n",
    "tt.clear()\n",
    "# Nom et prénom des scientifiques nés après 1920\n",
    "print(selection4(t_attributs, table2, \"annee\", comparaisons[\"sup\"], comparaisons[\"aucune\"], 1920 , 0))\n",
    "tt.clear()\n",
    "# Nom et prénom des scientifiques nés entre 1900 et 1920\n",
    "print(selection4(t_attributs, table2, \"annee\", comparaisons[\"inf\"], comparaisons[\"inf\"], 1900 , 1920))\n",
    "tt.clear()\n",
    "# Nom, prénom et date de naissance des scientifiques nés entre le premier (compris) et le 15 (exclus) du mois\n",
    "t_attributs = [\"nom\", \"prenom\",\"jour\",\"mois\",\"annee\"]\n",
    "print(selection4(t_attributs, table2, \"jour\", comparaisons[\"infegal\"], comparaisons[\"inf\"], 1 , 15))       \n",
    "tt.clear()"
   ]
  },
  {
   "cell_type": "code",
   "execution_count": null,
   "metadata": {},
   "outputs": [],
   "source": []
  }
 ],
 "metadata": {
  "kernelspec": {
   "display_name": "Python 3",
   "language": "python",
   "name": "python3"
  },
  "language_info": {
   "codemirror_mode": {
    "name": "ipython",
    "version": 3
   },
   "file_extension": ".py",
   "mimetype": "text/x-python",
   "name": "python",
   "nbconvert_exporter": "python",
   "pygments_lexer": "ipython3",
   "version": "3.8.5"
  }
 },
 "nbformat": 4,
 "nbformat_minor": 4
}
